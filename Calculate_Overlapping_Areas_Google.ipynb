{
  "nbformat": 4,
  "nbformat_minor": 0,
  "metadata": {
    "colab": {
      "provenance": [],
      "authorship_tag": "ABX9TyP5qMEasZmKbooEEMg2JlWe",
      "include_colab_link": true
    },
    "kernelspec": {
      "name": "python3",
      "display_name": "Python 3"
    },
    "language_info": {
      "name": "python"
    }
  },
  "cells": [
    {
      "cell_type": "markdown",
      "metadata": {
        "id": "view-in-github",
        "colab_type": "text"
      },
      "source": [
        "<a href=\"https://colab.research.google.com/github/phu024/Calculating-the-areas-of-overlapping-regions/blob/main/Calculate_Overlapping_Areas_Google.ipynb\" target=\"_parent\"><img src=\"https://colab.research.google.com/assets/colab-badge.svg\" alt=\"Open In Colab\"/></a>"
      ]
    },
    {
      "cell_type": "markdown",
      "source": [
        "Install Required Libraries"
      ],
      "metadata": {
        "id": "95IscAjUJytZ"
      }
    },
    {
      "cell_type": "code",
      "execution_count": null,
      "metadata": {
        "colab": {
          "base_uri": "https://localhost:8080/"
        },
        "collapsed": true,
        "id": "MFKv6KffJGfE",
        "outputId": "49c536f3-b2b9-4fa2-b0b9-76ccdea68ef5"
      },
      "outputs": [
        {
          "output_type": "stream",
          "name": "stdout",
          "text": [
            "Requirement already satisfied: geopandas in /usr/local/lib/python3.10/dist-packages (0.13.2)\n",
            "Requirement already satisfied: shapely in /usr/local/lib/python3.10/dist-packages (2.0.4)\n",
            "Requirement already satisfied: matplotlib in /usr/local/lib/python3.10/dist-packages (3.7.1)\n",
            "Requirement already satisfied: fiona>=1.8.19 in /usr/local/lib/python3.10/dist-packages (from geopandas) (1.9.6)\n",
            "Requirement already satisfied: packaging in /usr/local/lib/python3.10/dist-packages (from geopandas) (24.0)\n",
            "Requirement already satisfied: pandas>=1.1.0 in /usr/local/lib/python3.10/dist-packages (from geopandas) (2.0.3)\n",
            "Requirement already satisfied: pyproj>=3.0.1 in /usr/local/lib/python3.10/dist-packages (from geopandas) (3.6.1)\n",
            "Requirement already satisfied: numpy<3,>=1.14 in /usr/local/lib/python3.10/dist-packages (from shapely) (1.25.2)\n",
            "Requirement already satisfied: contourpy>=1.0.1 in /usr/local/lib/python3.10/dist-packages (from matplotlib) (1.2.1)\n",
            "Requirement already satisfied: cycler>=0.10 in /usr/local/lib/python3.10/dist-packages (from matplotlib) (0.12.1)\n",
            "Requirement already satisfied: fonttools>=4.22.0 in /usr/local/lib/python3.10/dist-packages (from matplotlib) (4.53.0)\n",
            "Requirement already satisfied: kiwisolver>=1.0.1 in /usr/local/lib/python3.10/dist-packages (from matplotlib) (1.4.5)\n",
            "Requirement already satisfied: pillow>=6.2.0 in /usr/local/lib/python3.10/dist-packages (from matplotlib) (9.4.0)\n",
            "Requirement already satisfied: pyparsing>=2.3.1 in /usr/local/lib/python3.10/dist-packages (from matplotlib) (3.1.2)\n",
            "Requirement already satisfied: python-dateutil>=2.7 in /usr/local/lib/python3.10/dist-packages (from matplotlib) (2.8.2)\n",
            "Requirement already satisfied: attrs>=19.2.0 in /usr/local/lib/python3.10/dist-packages (from fiona>=1.8.19->geopandas) (23.2.0)\n",
            "Requirement already satisfied: certifi in /usr/local/lib/python3.10/dist-packages (from fiona>=1.8.19->geopandas) (2024.6.2)\n",
            "Requirement already satisfied: click~=8.0 in /usr/local/lib/python3.10/dist-packages (from fiona>=1.8.19->geopandas) (8.1.7)\n",
            "Requirement already satisfied: click-plugins>=1.0 in /usr/local/lib/python3.10/dist-packages (from fiona>=1.8.19->geopandas) (1.1.1)\n",
            "Requirement already satisfied: cligj>=0.5 in /usr/local/lib/python3.10/dist-packages (from fiona>=1.8.19->geopandas) (0.7.2)\n",
            "Requirement already satisfied: six in /usr/local/lib/python3.10/dist-packages (from fiona>=1.8.19->geopandas) (1.16.0)\n",
            "Requirement already satisfied: pytz>=2020.1 in /usr/local/lib/python3.10/dist-packages (from pandas>=1.1.0->geopandas) (2023.4)\n",
            "Requirement already satisfied: tzdata>=2022.1 in /usr/local/lib/python3.10/dist-packages (from pandas>=1.1.0->geopandas) (2024.1)\n"
          ]
        }
      ],
      "source": [
        "!pip install geopandas shapely matplotlib"
      ]
    },
    {
      "cell_type": "code",
      "source": [
        "!pip install gmplot"
      ],
      "metadata": {
        "colab": {
          "base_uri": "https://localhost:8080/"
        },
        "collapsed": true,
        "id": "XkvhzbGYKy2k",
        "outputId": "835bb045-7105-47f6-bf06-32f5580d63ea"
      },
      "execution_count": null,
      "outputs": [
        {
          "output_type": "stream",
          "name": "stdout",
          "text": [
            "Requirement already satisfied: gmplot in /usr/local/lib/python3.10/dist-packages (1.4.1)\n",
            "Requirement already satisfied: requests in /usr/local/lib/python3.10/dist-packages (from gmplot) (2.31.0)\n",
            "Requirement already satisfied: charset-normalizer<4,>=2 in /usr/local/lib/python3.10/dist-packages (from requests->gmplot) (3.3.2)\n",
            "Requirement already satisfied: idna<4,>=2.5 in /usr/local/lib/python3.10/dist-packages (from requests->gmplot) (3.7)\n",
            "Requirement already satisfied: urllib3<3,>=1.21.1 in /usr/local/lib/python3.10/dist-packages (from requests->gmplot) (2.0.7)\n",
            "Requirement already satisfied: certifi>=2017.4.17 in /usr/local/lib/python3.10/dist-packages (from requests->gmplot) (2024.6.2)\n"
          ]
        }
      ]
    },
    {
      "cell_type": "markdown",
      "source": [
        "Define your API key"
      ],
      "metadata": {
        "id": "ajCzLivcK3LY"
      }
    },
    {
      "cell_type": "code",
      "source": [
        "google_api_key = 'ADD YOUR API KEY'"
      ],
      "metadata": {
        "id": "FBDCFc1ZK1u0"
      },
      "execution_count": null,
      "outputs": []
    },
    {
      "cell_type": "markdown",
      "source": [
        "Import Libraries"
      ],
      "metadata": {
        "id": "rPqqSBebJ0re"
      }
    },
    {
      "cell_type": "code",
      "source": [
        "import gmplot\n",
        "import geopandas as gpd\n",
        "from shapely.geometry import Polygon\n",
        "import matplotlib.pyplot as plt"
      ],
      "metadata": {
        "id": "I4vAxASkJXQb"
      },
      "execution_count": null,
      "outputs": []
    },
    {
      "cell_type": "markdown",
      "source": [
        "Define the coordinates for the polygons"
      ],
      "metadata": {
        "id": "FFiwZI5sJ4v4"
      }
    },
    {
      "cell_type": "code",
      "source": [
        "polygon1_coords = [(37.782, -122.447), (37.782, -122.445), (37.780, -122.445), (37.780, -122.447)]\n",
        "polygon2_coords = [(37.781, -122.446), (37.781, -122.444), (37.779, -122.444), (37.779, -122.446)]"
      ],
      "metadata": {
        "id": "l57M2MExJ6ss"
      },
      "execution_count": null,
      "outputs": []
    },
    {
      "cell_type": "markdown",
      "source": [
        "Create Shapely polygons"
      ],
      "metadata": {
        "id": "tGJNNbYVKGon"
      }
    },
    {
      "cell_type": "code",
      "source": [
        "# polygon1 = Polygon([(lon, lat) for lat, lon in polygon1_coords])\n",
        "# polygon2 = Polygon([(lon, lat) for lat, lon in polygon2_coords])\n",
        "polygon1 = Polygon(polygon1_coords)\n",
        "polygon2 = Polygon(polygon2_coords)"
      ],
      "metadata": {
        "id": "GexmAz6bKB-t"
      },
      "execution_count": null,
      "outputs": []
    },
    {
      "cell_type": "markdown",
      "source": [
        "Create GeoDataFrames"
      ],
      "metadata": {
        "id": "zUKrbsuGNRql"
      }
    },
    {
      "cell_type": "code",
      "source": [
        "gdf1 = gpd.GeoDataFrame({'geometry': [polygon1]})\n",
        "gdf2 = gpd.GeoDataFrame({'geometry': [polygon2]})"
      ],
      "metadata": {
        "id": "Wt6S4mdzNVLG"
      },
      "execution_count": null,
      "outputs": []
    },
    {
      "cell_type": "markdown",
      "source": [
        "Calculate the Overlap"
      ],
      "metadata": {
        "id": "fqx-6VTaKMdn"
      }
    },
    {
      "cell_type": "code",
      "source": [
        "# Calculate the intersection\n",
        "intersection = polygon1.intersection(polygon2)\n",
        "\n",
        "# Calculate areas\n",
        "area1 = polygon1.area\n",
        "area2 = polygon2.area\n",
        "overlap_area = intersection.area\n",
        "\n",
        "# Calculate the percentage of overlap\n",
        "overlap_percentage1 = (overlap_area / area1) * 100\n",
        "overlap_percentage2 = (overlap_area / area2) * 100\n",
        "\n",
        "print(f'Overlap Area: {overlap_area:.6f} square degrees')\n",
        "print(f'Overlap Percentage (Polygon 1): {overlap_percentage1:.2f}%')\n",
        "print(f'Overlap Percentage (Polygon 2): {overlap_percentage2:.2f}%')\n"
      ],
      "metadata": {
        "colab": {
          "base_uri": "https://localhost:8080/"
        },
        "id": "Kv3ri21nKODV",
        "outputId": "4ca4c7b3-07ff-43d6-d312-667e473acbd5"
      },
      "execution_count": null,
      "outputs": [
        {
          "output_type": "stream",
          "name": "stdout",
          "text": [
            "Overlap Area: 0.000001 square degrees\n",
            "Overlap Percentage (Polygon 1): 25.00%\n",
            "Overlap Percentage (Polygon 2): 25.00%\n"
          ]
        }
      ]
    },
    {
      "cell_type": "markdown",
      "source": [
        "Visualize the Polygons"
      ],
      "metadata": {
        "id": "fZdZ7HMBNcNj"
      }
    },
    {
      "cell_type": "code",
      "source": [
        "# Plot the polygons and their intersection\n",
        "fig, ax = plt.subplots(figsize=(10, 10))\n",
        "\n",
        "gdf1.boundary.plot(ax=ax, color='red', linewidth=2)\n",
        "gdf2.boundary.plot(ax=ax, color='blue', linewidth=2)\n",
        "\n",
        "if not intersection.is_empty:\n",
        "    gpd.GeoSeries([intersection]).boundary.plot(ax=ax, color='green', linewidth=2)\n",
        "\n",
        "plt.title('Polygon Overlap')\n",
        "plt.xlabel('Longitude')\n",
        "plt.ylabel('Latitude')\n",
        "plt.show()\n"
      ],
      "metadata": {
        "colab": {
          "base_uri": "https://localhost:8080/",
          "height": 872
        },
        "id": "iMd542gtNZom",
        "outputId": "3b6db3b0-f93a-4fd8-b891-a68dca32bf0f"
      },
      "execution_count": null,
      "outputs": [
        {
          "output_type": "display_data",
          "data": {
            "text/plain": [
              "<Figure size 1000x1000 with 1 Axes>"
            ],
            "image/png": "[encoded data removed]"
          },
          "metadata": {}
        }
      ]
    },
    {
      "cell_type": "markdown",
      "source": [
        "Display the Map in Colab"
      ],
      "metadata": {
        "id": "uDz_jq36NgUP"
      }
    },
    {
      "cell_type": "code",
      "source": [
        "# Create the map plotter\n",
        "gmap = gmplot.GoogleMapPlotter(37.781, -122.445, 15, apikey=google_api_key)\n",
        "\n",
        "# Extract latitude and longitude from polygon coordinates\n",
        "polygon1_lats, polygon1_lons = zip(*polygon1_coords)\n",
        "polygon2_lats, polygon2_lons = zip(*polygon2_coords)\n",
        "if not intersection.is_empty:\n",
        "    intersection_lats, intersection_lons = zip(*intersection.exterior.coords)\n",
        "\n",
        "# Plot polygons\n",
        "gmap.polygon(polygon1_lats, polygon1_lons, color='red', edge_width=2)\n",
        "gmap.polygon(polygon2_lats, polygon2_lons, color='blue', edge_width=2)\n",
        "if not intersection.is_empty:\n",
        "    gmap.polygon(intersection_lats, intersection_lons, color='green', edge_width=2)\n",
        "\n",
        "# Save the map to an HTML file\n",
        "gmap.draw(\"polygon_overlap_map.html\")\n"
      ],
      "metadata": {
        "id": "YdFaU9h8KTfK"
      },
      "execution_count": null,
      "outputs": []
    }
  ]
}